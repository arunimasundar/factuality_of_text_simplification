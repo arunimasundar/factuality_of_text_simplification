{
 "cells": [
  {
   "cell_type": "code",
   "execution_count": 3,
   "id": "80d9fa75",
   "metadata": {},
   "outputs": [],
   "source": [
    "import pandas as pd"
   ]
  },
  {
   "cell_type": "code",
   "execution_count": 1,
   "id": "f6714bf3",
   "metadata": {},
   "outputs": [
    {
     "name": "stdout",
     "output_type": "stream",
     "text": [
      "Requirement already satisfied: transformers in /Users/snigdhaviswanathan/opt/anaconda3/lib/python3.9/site-packages (4.28.1)\n",
      "Requirement already satisfied: packaging>=20.0 in /Users/snigdhaviswanathan/opt/anaconda3/lib/python3.9/site-packages (from transformers) (21.3)\n",
      "Requirement already satisfied: pyyaml>=5.1 in /Users/snigdhaviswanathan/opt/anaconda3/lib/python3.9/site-packages (from transformers) (6.0)\n",
      "Requirement already satisfied: requests in /Users/snigdhaviswanathan/opt/anaconda3/lib/python3.9/site-packages (from transformers) (2.27.1)\n",
      "Requirement already satisfied: filelock in /Users/snigdhaviswanathan/opt/anaconda3/lib/python3.9/site-packages (from transformers) (3.6.0)\n",
      "Requirement already satisfied: huggingface-hub<1.0,>=0.11.0 in /Users/snigdhaviswanathan/opt/anaconda3/lib/python3.9/site-packages (from transformers) (0.14.1)\n",
      "Requirement already satisfied: regex!=2019.12.17 in /Users/snigdhaviswanathan/opt/anaconda3/lib/python3.9/site-packages (from transformers) (2022.3.15)\n",
      "Requirement already satisfied: tokenizers!=0.11.3,<0.14,>=0.11.1 in /Users/snigdhaviswanathan/opt/anaconda3/lib/python3.9/site-packages (from transformers) (0.13.3)\n",
      "Requirement already satisfied: numpy>=1.17 in /Users/snigdhaviswanathan/opt/anaconda3/lib/python3.9/site-packages (from transformers) (1.21.5)\n",
      "Requirement already satisfied: tqdm>=4.27 in /Users/snigdhaviswanathan/opt/anaconda3/lib/python3.9/site-packages (from transformers) (4.64.0)\n",
      "Requirement already satisfied: fsspec in /Users/snigdhaviswanathan/opt/anaconda3/lib/python3.9/site-packages (from huggingface-hub<1.0,>=0.11.0->transformers) (2022.2.0)\n",
      "Requirement already satisfied: typing-extensions>=3.7.4.3 in /Users/snigdhaviswanathan/opt/anaconda3/lib/python3.9/site-packages (from huggingface-hub<1.0,>=0.11.0->transformers) (4.1.1)\n",
      "Requirement already satisfied: pyparsing!=3.0.5,>=2.0.2 in /Users/snigdhaviswanathan/opt/anaconda3/lib/python3.9/site-packages (from packaging>=20.0->transformers) (3.0.4)\n",
      "Requirement already satisfied: urllib3<1.27,>=1.21.1 in /Users/snigdhaviswanathan/opt/anaconda3/lib/python3.9/site-packages (from requests->transformers) (1.26.9)\n",
      "Requirement already satisfied: certifi>=2017.4.17 in /Users/snigdhaviswanathan/opt/anaconda3/lib/python3.9/site-packages (from requests->transformers) (2021.10.8)\n",
      "Requirement already satisfied: charset-normalizer~=2.0.0 in /Users/snigdhaviswanathan/opt/anaconda3/lib/python3.9/site-packages (from requests->transformers) (2.0.4)\n",
      "Requirement already satisfied: idna<4,>=2.5 in /Users/snigdhaviswanathan/opt/anaconda3/lib/python3.9/site-packages (from requests->transformers) (3.3)\n",
      "Requirement already satisfied: datasets in /Users/snigdhaviswanathan/opt/anaconda3/lib/python3.9/site-packages (2.12.0)\n",
      "Requirement already satisfied: pyarrow>=8.0.0 in /Users/snigdhaviswanathan/opt/anaconda3/lib/python3.9/site-packages (from datasets) (12.0.0)\n",
      "Requirement already satisfied: huggingface-hub<1.0.0,>=0.11.0 in /Users/snigdhaviswanathan/opt/anaconda3/lib/python3.9/site-packages (from datasets) (0.14.1)\n",
      "Requirement already satisfied: packaging in /Users/snigdhaviswanathan/opt/anaconda3/lib/python3.9/site-packages (from datasets) (21.3)\n",
      "Requirement already satisfied: tqdm>=4.62.1 in /Users/snigdhaviswanathan/opt/anaconda3/lib/python3.9/site-packages (from datasets) (4.64.0)\n",
      "Requirement already satisfied: pandas in /Users/snigdhaviswanathan/opt/anaconda3/lib/python3.9/site-packages (from datasets) (1.4.2)\n",
      "Requirement already satisfied: fsspec[http]>=2021.11.1 in /Users/snigdhaviswanathan/opt/anaconda3/lib/python3.9/site-packages (from datasets) (2022.2.0)\n",
      "Requirement already satisfied: responses<0.19 in /Users/snigdhaviswanathan/opt/anaconda3/lib/python3.9/site-packages (from datasets) (0.18.0)\n",
      "Requirement already satisfied: multiprocess in /Users/snigdhaviswanathan/opt/anaconda3/lib/python3.9/site-packages (from datasets) (0.70.14)\n",
      "Requirement already satisfied: pyyaml>=5.1 in /Users/snigdhaviswanathan/opt/anaconda3/lib/python3.9/site-packages (from datasets) (6.0)\n",
      "Requirement already satisfied: requests>=2.19.0 in /Users/snigdhaviswanathan/opt/anaconda3/lib/python3.9/site-packages (from datasets) (2.27.1)\n",
      "Requirement already satisfied: xxhash in /Users/snigdhaviswanathan/opt/anaconda3/lib/python3.9/site-packages (from datasets) (3.2.0)\n",
      "Requirement already satisfied: numpy>=1.17 in /Users/snigdhaviswanathan/opt/anaconda3/lib/python3.9/site-packages (from datasets) (1.21.5)\n",
      "Requirement already satisfied: aiohttp in /Users/snigdhaviswanathan/opt/anaconda3/lib/python3.9/site-packages (from datasets) (3.8.1)\n",
      "Requirement already satisfied: dill<0.3.7,>=0.3.0 in /Users/snigdhaviswanathan/opt/anaconda3/lib/python3.9/site-packages (from datasets) (0.3.6)\n",
      "Requirement already satisfied: typing-extensions>=3.7.4.3 in /Users/snigdhaviswanathan/opt/anaconda3/lib/python3.9/site-packages (from huggingface-hub<1.0.0,>=0.11.0->datasets) (4.1.1)\n",
      "Requirement already satisfied: filelock in /Users/snigdhaviswanathan/opt/anaconda3/lib/python3.9/site-packages (from huggingface-hub<1.0.0,>=0.11.0->datasets) (3.6.0)\n",
      "Requirement already satisfied: pyparsing!=3.0.5,>=2.0.2 in /Users/snigdhaviswanathan/opt/anaconda3/lib/python3.9/site-packages (from packaging->datasets) (3.0.4)\n",
      "Requirement already satisfied: urllib3<1.27,>=1.21.1 in /Users/snigdhaviswanathan/opt/anaconda3/lib/python3.9/site-packages (from requests>=2.19.0->datasets) (1.26.9)\n",
      "Requirement already satisfied: idna<4,>=2.5 in /Users/snigdhaviswanathan/opt/anaconda3/lib/python3.9/site-packages (from requests>=2.19.0->datasets) (3.3)\n",
      "Requirement already satisfied: charset-normalizer~=2.0.0 in /Users/snigdhaviswanathan/opt/anaconda3/lib/python3.9/site-packages (from requests>=2.19.0->datasets) (2.0.4)\n",
      "Requirement already satisfied: certifi>=2017.4.17 in /Users/snigdhaviswanathan/opt/anaconda3/lib/python3.9/site-packages (from requests>=2.19.0->datasets) (2021.10.8)\n",
      "Requirement already satisfied: attrs>=17.3.0 in /Users/snigdhaviswanathan/opt/anaconda3/lib/python3.9/site-packages (from aiohttp->datasets) (21.4.0)\n",
      "Requirement already satisfied: yarl<2.0,>=1.0 in /Users/snigdhaviswanathan/opt/anaconda3/lib/python3.9/site-packages (from aiohttp->datasets) (1.6.3)\n",
      "Requirement already satisfied: aiosignal>=1.1.2 in /Users/snigdhaviswanathan/opt/anaconda3/lib/python3.9/site-packages (from aiohttp->datasets) (1.2.0)\n",
      "Requirement already satisfied: multidict<7.0,>=4.5 in /Users/snigdhaviswanathan/opt/anaconda3/lib/python3.9/site-packages (from aiohttp->datasets) (5.2.0)\n",
      "Requirement already satisfied: async-timeout<5.0,>=4.0.0a3 in /Users/snigdhaviswanathan/opt/anaconda3/lib/python3.9/site-packages (from aiohttp->datasets) (4.0.1)\n",
      "Requirement already satisfied: frozenlist>=1.1.1 in /Users/snigdhaviswanathan/opt/anaconda3/lib/python3.9/site-packages (from aiohttp->datasets) (1.2.0)\n",
      "Requirement already satisfied: python-dateutil>=2.8.1 in /Users/snigdhaviswanathan/opt/anaconda3/lib/python3.9/site-packages (from pandas->datasets) (2.8.2)\n",
      "Requirement already satisfied: pytz>=2020.1 in /Users/snigdhaviswanathan/opt/anaconda3/lib/python3.9/site-packages (from pandas->datasets) (2021.3)\n",
      "Requirement already satisfied: six>=1.5 in /Users/snigdhaviswanathan/opt/anaconda3/lib/python3.9/site-packages (from python-dateutil>=2.8.1->pandas->datasets) (1.16.0)\n"
     ]
    }
   ],
   "source": [
    "import locale\n",
    "def getpreferredencoding(do_setlocale = True):\n",
    "    return \"UTF-8\"\n",
    "locale.getpreferredencoding = getpreferredencoding\n",
    "!pip install transformers\n",
    "!pip install datasets"
   ]
  },
  {
   "cell_type": "code",
   "execution_count": 2,
   "id": "7d8f1a59",
   "metadata": {},
   "outputs": [],
   "source": [
    "import torch\n",
    "from transformers import (\n",
    "    DataCollatorForSeq2Seq,\n",
    "    PegasusTokenizer,\n",
    "    PegasusForConditionalGeneration,\n",
    "    AdamW\n",
    ")\n",
    "from datasets import Dataset, DatasetDict\n",
    "from sklearn.model_selection import train_test_split"
   ]
  },
  {
   "cell_type": "code",
   "execution_count": 7,
   "id": "4e7e70e8",
   "metadata": {},
   "outputs": [],
   "source": [
    "tokenizer = PegasusTokenizer.from_pretrained('google/pegasus-large')"
   ]
  },
  {
   "cell_type": "code",
   "execution_count": 10,
   "id": "adb5ce93",
   "metadata": {},
   "outputs": [],
   "source": [
    "path = 'datasets/test_data/test.csv'\n",
    "df_test = pd.read_csv(path)"
   ]
  },
  {
   "cell_type": "code",
   "execution_count": 11,
   "id": "b9b506f9",
   "metadata": {},
   "outputs": [
    {
     "data": {
      "text/html": [
       "<div>\n",
       "<style scoped>\n",
       "    .dataframe tbody tr th:only-of-type {\n",
       "        vertical-align: middle;\n",
       "    }\n",
       "\n",
       "    .dataframe tbody tr th {\n",
       "        vertical-align: top;\n",
       "    }\n",
       "\n",
       "    .dataframe thead th {\n",
       "        text-align: right;\n",
       "    }\n",
       "</style>\n",
       "<table border=\"1\" class=\"dataframe\">\n",
       "  <thead>\n",
       "    <tr style=\"text-align: right;\">\n",
       "      <th></th>\n",
       "      <th>source_text</th>\n",
       "      <th>simplified_text</th>\n",
       "    </tr>\n",
       "  </thead>\n",
       "  <tbody>\n",
       "    <tr>\n",
       "      <th>0</th>\n",
       "      <td>There are many significant elevations in the G...</td>\n",
       "      <td>There are many important peaks in the Grison A...</td>\n",
       "    </tr>\n",
       "    <tr>\n",
       "      <th>1</th>\n",
       "      <td>Horst KÃ ppel -LRB- born on May 17 , 1948 in S...</td>\n",
       "      <td>Horst KÃ ppel -LRB- born 17 May 1948 -RRB- is ...</td>\n",
       "    </tr>\n",
       "    <tr>\n",
       "      <th>2</th>\n",
       "      <td>PERSON@1 '' Roy '' PERSON@2 -LRB- born NUMBER@...</td>\n",
       "      <td>PERSON@3 -LRB- born NUMBER@1 March , NUMBER@2 ...</td>\n",
       "    </tr>\n",
       "    <tr>\n",
       "      <th>3</th>\n",
       "      <td>There are many different types of LC phases , ...</td>\n",
       "      <td>Different phases are different because their o...</td>\n",
       "    </tr>\n",
       "    <tr>\n",
       "      <th>4</th>\n",
       "      <td>Producer and screenwriter PERSON@1 is the nove...</td>\n",
       "      <td>Producer and screenwriter PERSON@1 is the nove...</td>\n",
       "    </tr>\n",
       "    <tr>\n",
       "      <th>...</th>\n",
       "      <td>...</td>\n",
       "      <td>...</td>\n",
       "    </tr>\n",
       "    <tr>\n",
       "      <th>6995</th>\n",
       "      <td>Skardu District is part of Baltistan and curre...</td>\n",
       "      <td>Skardu District is part of Baltistan and curre...</td>\n",
       "    </tr>\n",
       "    <tr>\n",
       "      <th>6996</th>\n",
       "      <td>With his position in the Tanzanian government ...</td>\n",
       "      <td>With his position in the Tanzanian government ...</td>\n",
       "    </tr>\n",
       "    <tr>\n",
       "      <th>6997</th>\n",
       "      <td>The Governor of LOCATION@1 is the chief execut...</td>\n",
       "      <td>The Governor is in charge of making yearly '' ...</td>\n",
       "    </tr>\n",
       "    <tr>\n",
       "      <th>6998</th>\n",
       "      <td>Port is a commune in the Ain department in eas...</td>\n",
       "      <td>Port is a commune . It is found in the region ...</td>\n",
       "    </tr>\n",
       "    <tr>\n",
       "      <th>6999</th>\n",
       "      <td>Pakistan 's economy mainly encompasses textile...</td>\n",
       "      <td>Pakistan is a nation with a diverse economy th...</td>\n",
       "    </tr>\n",
       "  </tbody>\n",
       "</table>\n",
       "<p>7000 rows × 2 columns</p>\n",
       "</div>"
      ],
      "text/plain": [
       "                                            source_text  \\\n",
       "0     There are many significant elevations in the G...   \n",
       "1     Horst KÃ ppel -LRB- born on May 17 , 1948 in S...   \n",
       "2     PERSON@1 '' Roy '' PERSON@2 -LRB- born NUMBER@...   \n",
       "3     There are many different types of LC phases , ...   \n",
       "4     Producer and screenwriter PERSON@1 is the nove...   \n",
       "...                                                 ...   \n",
       "6995  Skardu District is part of Baltistan and curre...   \n",
       "6996  With his position in the Tanzanian government ...   \n",
       "6997  The Governor of LOCATION@1 is the chief execut...   \n",
       "6998  Port is a commune in the Ain department in eas...   \n",
       "6999  Pakistan 's economy mainly encompasses textile...   \n",
       "\n",
       "                                        simplified_text  \n",
       "0     There are many important peaks in the Grison A...  \n",
       "1     Horst KÃ ppel -LRB- born 17 May 1948 -RRB- is ...  \n",
       "2     PERSON@3 -LRB- born NUMBER@1 March , NUMBER@2 ...  \n",
       "3     Different phases are different because their o...  \n",
       "4     Producer and screenwriter PERSON@1 is the nove...  \n",
       "...                                                 ...  \n",
       "6995  Skardu District is part of Baltistan and curre...  \n",
       "6996  With his position in the Tanzanian government ...  \n",
       "6997  The Governor is in charge of making yearly '' ...  \n",
       "6998  Port is a commune . It is found in the region ...  \n",
       "6999  Pakistan is a nation with a diverse economy th...  \n",
       "\n",
       "[7000 rows x 2 columns]"
      ]
     },
     "execution_count": 11,
     "metadata": {},
     "output_type": "execute_result"
    }
   ],
   "source": [
    "df_test"
   ]
  },
  {
   "cell_type": "code",
   "execution_count": 12,
   "id": "b2e92f8c",
   "metadata": {},
   "outputs": [
    {
     "name": "stdout",
     "output_type": "stream",
     "text": [
      "Requirement already satisfied: tqdm in /Users/snigdhaviswanathan/opt/anaconda3/lib/python3.9/site-packages (4.64.0)\r\n"
     ]
    }
   ],
   "source": [
    "!pip install tqdm"
   ]
  },
  {
   "cell_type": "code",
   "execution_count": 13,
   "id": "9daa6d56",
   "metadata": {},
   "outputs": [],
   "source": [
    "import tqdm"
   ]
  },
  {
   "cell_type": "code",
   "execution_count": 14,
   "id": "ad512936",
   "metadata": {},
   "outputs": [
    {
     "name": "stderr",
     "output_type": "stream",
     "text": [
      "7000it [11:53:19,  6.11s/it]\n"
     ]
    }
   ],
   "source": [
    "from transformers import pipeline\n",
    "#Change the path accordingly for different models\n",
    "trained_model = PegasusForConditionalGeneration.from_pretrained(\"models/Pegasus/training/\")\n",
    "text_generator = pipeline(\"text2text-generation\", model=trained_model, tokenizer=tokenizer)\n",
    "df_final = pd.DataFrame(columns=['source_sentence', 'gold', 'pred'])\n",
    "\n",
    "for index, row in tqdm.tqdm(df_test.iterrows()):\n",
    "    input_text = row[\"source_text\"]\n",
    "    target_text = row[\"simplified_text\"]\n",
    "    generated_text = text_generator(input_text, do_sample=True)[0][\"generated_text\"]\n",
    "    df_final.loc[len(df_final)] = [input_text, target_text, generated_text]\n",
    "    \n",
    "#Change the path accordingly for different models\n",
    "df_final.to_csv('models/Pegasus/inference/output_files/Pegasus_inference.csv', index=False)"
   ]
  }
 ],
 "metadata": {
  "kernelspec": {
   "display_name": "Python 3 (ipykernel)",
   "language": "python",
   "name": "python3"
  },
  "language_info": {
   "codemirror_mode": {
    "name": "ipython",
    "version": 3
   },
   "file_extension": ".py",
   "mimetype": "text/x-python",
   "name": "python",
   "nbconvert_exporter": "python",
   "pygments_lexer": "ipython3",
   "version": "3.9.12"
  }
 },
 "nbformat": 4,
 "nbformat_minor": 5
}
