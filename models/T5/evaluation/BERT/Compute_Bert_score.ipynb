{
 "cells": [
  {
   "cell_type": "code",
   "execution_count": 2,
   "metadata": {},
   "outputs": [
    {
     "name": "stderr",
     "output_type": "stream",
     "text": [
      "C:\\Users\\Arunima\\AppData\\Local\\Programs\\Python\\Python38\\lib\\site-packages\\pandas\\core\\computation\\expressions.py:20: UserWarning: Pandas requires version '2.7.3' or newer of 'numexpr' (version '2.7.1' currently installed).\n",
      "  from pandas.core.computation.check import NUMEXPR_INSTALLED\n"
     ]
    },
    {
     "data": {
      "text/plain": [
       "'0.3.12'"
      ]
     },
     "execution_count": 2,
     "metadata": {},
     "output_type": "execute_result"
    }
   ],
   "source": [
    "import pandas as pd\n",
    "import bert_score\n",
    "import os\n",
    "import logging\n",
    "import transformers\n",
    "import itertools\n",
    "\n",
    "\n",
    "transformers.tokenization_utils.logger.setLevel(logging.ERROR)\n",
    "transformers.configuration_utils.logger.setLevel(logging.ERROR)\n",
    "transformers.modeling_utils.logger.setLevel(logging.ERROR)\n",
    "bert_score.__version__"
   ]
  },
  {
   "cell_type": "code",
   "execution_count": 11,
   "metadata": {},
   "outputs": [],
   "source": [
    "# edit path accordingly\n",
    "#edit path accordingly\n",
    "# path_to_load_dataset = \"factuality_of_text_simplification/datasets/final_training_data/bart_score_model_inference.csv\"\n",
    "# path_to_load_dataset = \"factuality_of_text_simplification/datasets/final_training_data/bert_score_model_inference.csv\"\n",
    "# path_to_load_dataset = \"factuality_of_text_simplification/datasets/final_training_data/dae_score_model_inference.csv\"\n",
    "# path_to_load_dataset = \"factuality_of_text_simplification/datasets/final_training_data/merged_model_inference.csv\"\n",
    "path_to_load_dataset = \"factuality_of_text_simplification/datasets/final_training_data/baseline_model_inference.csv\"\n",
    "df_data=pd.read_csv(path_to_load_dataset)"
   ]
  },
  {
   "cell_type": "code",
   "execution_count": 12,
   "metadata": {},
   "outputs": [
    {
     "data": {
      "text/html": [
       "<div>\n",
       "<style scoped>\n",
       "    .dataframe tbody tr th:only-of-type {\n",
       "        vertical-align: middle;\n",
       "    }\n",
       "\n",
       "    .dataframe tbody tr th {\n",
       "        vertical-align: top;\n",
       "    }\n",
       "\n",
       "    .dataframe thead th {\n",
       "        text-align: right;\n",
       "    }\n",
       "</style>\n",
       "<table border=\"1\" class=\"dataframe\">\n",
       "  <thead>\n",
       "    <tr style=\"text-align: right;\">\n",
       "      <th></th>\n",
       "      <th>source_sentence</th>\n",
       "      <th>simplified_sentence</th>\n",
       "      <th>sentence_id</th>\n",
       "    </tr>\n",
       "  </thead>\n",
       "  <tbody>\n",
       "    <tr>\n",
       "      <th>0</th>\n",
       "      <td>Dole was the capital until the region was conq...</td>\n",
       "      <td>It was created from part of the former provinc...</td>\n",
       "      <td>0</td>\n",
       "    </tr>\n",
       "    <tr>\n",
       "      <th>1</th>\n",
       "      <td>The elk , or wapiti -LRB- Cervus canadensis -R...</td>\n",
       "      <td>The Wapiti or Elk -LRB- Cervus canadensis -RRB...</td>\n",
       "      <td>1</td>\n",
       "    </tr>\n",
       "    <tr>\n",
       "      <th>2</th>\n",
       "      <td>When the city grew further , a bigger market p...</td>\n",
       "      <td>As the city grew larger , a bigger market plac...</td>\n",
       "      <td>2</td>\n",
       "    </tr>\n",
       "    <tr>\n",
       "      <th>3</th>\n",
       "      <td>These submarines often have a system which can...</td>\n",
       "      <td>These submarines often have a system which can...</td>\n",
       "      <td>3</td>\n",
       "    </tr>\n",
       "    <tr>\n",
       "      <th>4</th>\n",
       "      <td>Unlike the branle , in which sideways motion w...</td>\n",
       "      <td>To dance a gavotte the dancers must cross thei...</td>\n",
       "      <td>4</td>\n",
       "    </tr>\n",
       "    <tr>\n",
       "      <th>...</th>\n",
       "      <td>...</td>\n",
       "      <td>...</td>\n",
       "      <td>...</td>\n",
       "    </tr>\n",
       "    <tr>\n",
       "      <th>19995</th>\n",
       "      <td>Killin -LRB- Cill Fhinn ` the White -LRB- or F...</td>\n",
       "      <td>Killin -LRB- Cill Fhinn ` the White -LRB- or F...</td>\n",
       "      <td>19995</td>\n",
       "    </tr>\n",
       "    <tr>\n",
       "      <th>19996</th>\n",
       "      <td>Early life Murray was born on born 26 April 18...</td>\n",
       "      <td>Early Life Murray was born on born 26 April 18...</td>\n",
       "      <td>19996</td>\n",
       "    </tr>\n",
       "    <tr>\n",
       "      <th>19997</th>\n",
       "      <td>Green Cove Springs is the county seat of Gover...</td>\n",
       "      <td>Green Cove Springs is a city of Florida in the...</td>\n",
       "      <td>19997</td>\n",
       "    </tr>\n",
       "    <tr>\n",
       "      <th>19998</th>\n",
       "      <td>Like Parmigiano Reggiano , Grana Padano is a s...</td>\n",
       "      <td>Like Parmigiano Reggiano , Grana Padano is a s...</td>\n",
       "      <td>19998</td>\n",
       "    </tr>\n",
       "    <tr>\n",
       "      <th>19999</th>\n",
       "      <td>In 1905 , Jones married Bernice Sheffield , wh...</td>\n",
       "      <td>In 1905 , Jones married Bernice Sheffield , wh...</td>\n",
       "      <td>19999</td>\n",
       "    </tr>\n",
       "  </tbody>\n",
       "</table>\n",
       "<p>20000 rows × 3 columns</p>\n",
       "</div>"
      ],
      "text/plain": [
       "                                         source_sentence  \\\n",
       "0      Dole was the capital until the region was conq...   \n",
       "1      The elk , or wapiti -LRB- Cervus canadensis -R...   \n",
       "2      When the city grew further , a bigger market p...   \n",
       "3      These submarines often have a system which can...   \n",
       "4      Unlike the branle , in which sideways motion w...   \n",
       "...                                                  ...   \n",
       "19995  Killin -LRB- Cill Fhinn ` the White -LRB- or F...   \n",
       "19996  Early life Murray was born on born 26 April 18...   \n",
       "19997  Green Cove Springs is the county seat of Gover...   \n",
       "19998  Like Parmigiano Reggiano , Grana Padano is a s...   \n",
       "19999  In 1905 , Jones married Bernice Sheffield , wh...   \n",
       "\n",
       "                                     simplified_sentence  sentence_id  \n",
       "0      It was created from part of the former provinc...            0  \n",
       "1      The Wapiti or Elk -LRB- Cervus canadensis -RRB...            1  \n",
       "2      As the city grew larger , a bigger market plac...            2  \n",
       "3      These submarines often have a system which can...            3  \n",
       "4      To dance a gavotte the dancers must cross thei...            4  \n",
       "...                                                  ...          ...  \n",
       "19995  Killin -LRB- Cill Fhinn ` the White -LRB- or F...        19995  \n",
       "19996  Early Life Murray was born on born 26 April 18...        19996  \n",
       "19997  Green Cove Springs is a city of Florida in the...        19997  \n",
       "19998  Like Parmigiano Reggiano , Grana Padano is a s...        19998  \n",
       "19999  In 1905 , Jones married Bernice Sheffield , wh...        19999  \n",
       "\n",
       "[20000 rows x 3 columns]"
      ]
     },
     "execution_count": 12,
     "metadata": {},
     "output_type": "execute_result"
    }
   ],
   "source": [
    "df_data"
   ]
  },
  {
   "cell_type": "code",
   "execution_count": 100,
   "metadata": {},
   "outputs": [
    {
     "name": "stdout",
     "output_type": "stream",
     "text": [
      "preparing IDF dict...\n",
      "done in 15.49 seconds\n",
      "calculating scores...\n",
      "computing bert embedding.\n"
     ]
    },
    {
     "data": {
      "application/vnd.jupyter.widget-view+json": {
       "model_id": "3021fe79d9904213b36eca0329173e15",
       "version_major": 2,
       "version_minor": 0
      },
      "text/plain": [
       "HBox(children=(FloatProgress(value=0.0, max=215.0), HTML(value='')))"
      ]
     },
     "metadata": {},
     "output_type": "display_data"
    },
    {
     "name": "stdout",
     "output_type": "stream",
     "text": [
      "\n",
      "computing greedy matching.\n"
     ]
    },
    {
     "data": {
      "application/vnd.jupyter.widget-view+json": {
       "model_id": "de603c86a94c48d1928d6155d1fe1636",
       "version_major": 2,
       "version_minor": 0
      },
      "text/plain": [
       "HBox(children=(FloatProgress(value=0.0, max=110.0), HTML(value='')))"
      ]
     },
     "metadata": {},
     "output_type": "display_data"
    },
    {
     "name": "stderr",
     "output_type": "stream",
     "text": [
      "Warning: Empty candidate sentence detected; setting raw BERTscores to 0.\n"
     ]
    },
    {
     "name": "stdout",
     "output_type": "stream",
     "text": [
      "\n",
      "done in 1579.64 seconds, 4.43 sentences/sec\n"
     ]
    }
   ],
   "source": [
    "#run\n",
    "df_data_sample = df_data\n",
    "from bert_score import score\n",
    "P_sample, R_sample, F1_sample = score(list((df_data_sample['source_sentence'])), list((df_data_sample['pred'])), lang='en', verbose=True, idf = True)"
   ]
  },
  {
   "cell_type": "code",
   "execution_count": 101,
   "metadata": {},
   "outputs": [],
   "source": [
    "p_list = P_sample.tolist()"
   ]
  },
  {
   "cell_type": "code",
   "execution_count": 102,
   "metadata": {},
   "outputs": [],
   "source": [
    "df_data['bert_score']=p_list"
   ]
  },
  {
   "cell_type": "code",
   "execution_count": 104,
   "metadata": {},
   "outputs": [],
   "source": [
    "df_data['precision_pred_with_brevity_penalty']=[df_data['score_pred'].iloc[i]*min(1,(len(df_data['pred'].iloc[i])/len(df_data['source_sentence'].iloc[i]))) for i in range(len(df_data))]"
   ]
  },
  {
   "cell_type": "code",
   "execution_count": null,
   "metadata": {},
   "outputs": [],
   "source": [
    "# edit path accordingly\n",
    "path_to_save_dataset=\"factuality_of_text_simplification/datasets/final_training_data/baseline_model_inference_bert_score.csv\"\n",
    "df_data_consistent.to_csv(path_to_save_dataset,index=False)"
   ]
  },
  {
   "cell_type": "code",
   "execution_count": null,
   "metadata": {},
   "outputs": [],
   "source": []
  }
 ],
 "metadata": {
  "kernelspec": {
   "display_name": "factual_env",
   "language": "python",
   "name": "factual_env"
  },
  "language_info": {
   "codemirror_mode": {
    "name": "ipython",
    "version": 3
   },
   "file_extension": ".py",
   "mimetype": "text/x-python",
   "name": "python",
   "nbconvert_exporter": "python",
   "pygments_lexer": "ipython3",
   "version": "3.8.3"
  }
 },
 "nbformat": 4,
 "nbformat_minor": 4
}
