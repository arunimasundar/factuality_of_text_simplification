{
 "cells": [
  {
   "cell_type": "code",
   "execution_count": null,
   "id": "f78ff756",
   "metadata": {},
   "outputs": [],
   "source": [
    "# from bart_score import BARTScorer\n",
    "import pandas as pd"
   ]
  },
  {
   "cell_type": "code",
   "execution_count": 43,
   "id": "b7e1dd15",
   "metadata": {},
   "outputs": [],
   "source": [
    "bart_scorer = BARTScorer(device='cpu', checkpoint='facebook/bart-large-cnn')"
   ]
  },
  {
   "cell_type": "code",
   "execution_count": 3,
   "id": "b3951ffb",
   "metadata": {},
   "outputs": [],
   "source": [
    "#edit path accordingly\n",
    "# data_path = \"actuality_of_text_simplification/models/T5/inference/output_files/bert_score_model_inference.csv\"\"\n",
    "# data_path = \"factuality_of_text_simplification/models/T5/inference/output_files/dae_score_model_inference.csv\"\"\n",
    "# data_path = \"factuality_of_text_simplification/models/T5/inference/output_files/merged_model_inference.csv\"\"\n",
    "# data_path = \"factuality_of_text_simplification/models/T5/inference/output_files/bart_score_model_inference.csv\"\"\n",
    "data_path = \"factuality_of_text_simplification/models/T5/inference/output_files/baseline_model_inference.csv\""
   ]
  },
  {
   "cell_type": "code",
   "execution_count": 4,
   "id": "1d23f0ec",
   "metadata": {},
   "outputs": [],
   "source": [
    "dataset = pd.read_csv(data_path)"
   ]
  },
  {
   "cell_type": "code",
   "execution_count": 209,
   "id": "86a74883",
   "metadata": {},
   "outputs": [],
   "source": [
    "bart_score = bart_scorer.score(list(dataset['source_sentence']), list(dataset['pred']), batch_size=16)"
   ]
  },
  {
   "cell_type": "code",
   "execution_count": 210,
   "id": "ae8a00ce",
   "metadata": {},
   "outputs": [],
   "source": [
    "dataset['bart_score'] = bart_score"
   ]
  },
  {
   "cell_type": "code",
   "execution_count": 7,
   "id": "4b51b8b4",
   "metadata": {},
   "outputs": [],
   "source": [
    "dataset = dataset.sort_values(by=['bart_score'], ascending = False)"
   ]
  },
  {
   "cell_type": "code",
   "execution_count": 9,
   "id": "546de479",
   "metadata": {},
   "outputs": [],
   "source": [
    "path_to_save_dataset=\"factuality_of_text_simplification\\models\\T5\\evaluation\\BART\\T5_bart_model_bart_score.csv\"\n",
    "dataset.to_csv(path_to_save_dataset)"
   ]
  }
 ],
 "metadata": {
  "kernelspec": {
   "display_name": "factual_consistency",
   "language": "python",
   "name": "factual_consistency"
  },
  "language_info": {
   "codemirror_mode": {
    "name": "ipython",
    "version": 3
   },
   "file_extension": ".py",
   "mimetype": "text/x-python",
   "name": "python",
   "nbconvert_exporter": "python",
   "pygments_lexer": "ipython3",
   "version": "3.10.11"
  }
 },
 "nbformat": 4,
 "nbformat_minor": 5
}
