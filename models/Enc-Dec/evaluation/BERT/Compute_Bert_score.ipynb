{
 "cells": [
  {
   "cell_type": "code",
   "execution_count": 2,
   "metadata": {},
   "outputs": [
    {
     "name": "stderr",
     "output_type": "stream",
     "text": [
      "C:\\Users\\Arunima\\AppData\\Local\\Programs\\Python\\Python38\\lib\\site-packages\\pandas\\core\\computation\\expressions.py:20: UserWarning: Pandas requires version '2.7.3' or newer of 'numexpr' (version '2.7.1' currently installed).\n",
      "  from pandas.core.computation.check import NUMEXPR_INSTALLED\n"
     ]
    },
    {
     "data": {
      "text/plain": [
       "'0.3.12'"
      ]
     },
     "execution_count": 2,
     "metadata": {},
     "output_type": "execute_result"
    }
   ],
   "source": [
    "import pandas as pd\n",
    "import bert_score\n",
    "import os\n",
    "import logging\n",
    "import transformers\n",
    "import itertools\n",
    "\n",
    "\n",
    "transformers.tokenization_utils.logger.setLevel(logging.ERROR)\n",
    "transformers.configuration_utils.logger.setLevel(logging.ERROR)\n",
    "transformers.modeling_utils.logger.setLevel(logging.ERROR)\n",
    "bert_score.__version__"
   ]
  },
  {
   "cell_type": "code",
   "execution_count": 11,
   "metadata": {},
   "outputs": [],
   "source": [
    "# edit path accordingly\n",
    "#edit path accordingly\n",
    "# path_to_load_dataset = \"actuality_of_text_simplification/models/T5/inference/output_files/bert_score_model_inference.csv\"\"\n",
    "# path_to_load_dataset = \"factuality_of_text_simplification/models/T5/inference/output_files/dae_score_model_inference.csv\"\"\n",
    "# path_to_load_dataset = \"factuality_of_text_simplification/models/T5/inference/output_files/merged_model_inference.csv\"\"\n",
    "# path_to_load_dataset = \"factuality_of_text_simplification/models/T5/inference/output_files/bart_score_model_inference.csv\"\"\n",
    "path_to_load_dataset = \"factuality_of_text_simplification/models/T5/inference/output_files/baseline_model_inference.csv\"\n",
    "df_data=pd.read_csv(path_to_load_dataset)"
   ]
  },
  {
   "cell_type": "code",
   "execution_count": 100,
   "metadata": {},
   "outputs": [
    {
     "name": "stdout",
     "output_type": "stream",
     "text": [
      "preparing IDF dict...\n",
      "done in 15.49 seconds\n",
      "calculating scores...\n",
      "computing bert embedding.\n"
     ]
    },
    {
     "data": {
      "application/vnd.jupyter.widget-view+json": {
       "model_id": "3021fe79d9904213b36eca0329173e15",
       "version_major": 2,
       "version_minor": 0
      },
      "text/plain": [
       "HBox(children=(FloatProgress(value=0.0, max=215.0), HTML(value='')))"
      ]
     },
     "metadata": {},
     "output_type": "display_data"
    },
    {
     "name": "stdout",
     "output_type": "stream",
     "text": [
      "\n",
      "computing greedy matching.\n"
     ]
    },
    {
     "data": {
      "application/vnd.jupyter.widget-view+json": {
       "model_id": "de603c86a94c48d1928d6155d1fe1636",
       "version_major": 2,
       "version_minor": 0
      },
      "text/plain": [
       "HBox(children=(FloatProgress(value=0.0, max=110.0), HTML(value='')))"
      ]
     },
     "metadata": {},
     "output_type": "display_data"
    },
    {
     "name": "stderr",
     "output_type": "stream",
     "text": [
      "Warning: Empty candidate sentence detected; setting raw BERTscores to 0.\n"
     ]
    },
    {
     "name": "stdout",
     "output_type": "stream",
     "text": [
      "\n",
      "done in 1579.64 seconds, 4.43 sentences/sec\n"
     ]
    }
   ],
   "source": [
    "#run\n",
    "df_data_sample = df_data\n",
    "from bert_score import score\n",
    "P_sample, R_sample, F1_sample = score(list((df_data_sample['source_sentence'])), list((df_data_sample['pred'])), lang='en', verbose=True, idf = True)"
   ]
  },
  {
   "cell_type": "code",
   "execution_count": 101,
   "metadata": {},
   "outputs": [],
   "source": [
    "p_list = P_sample.tolist()"
   ]
  },
  {
   "cell_type": "code",
   "execution_count": 102,
   "metadata": {},
   "outputs": [],
   "source": [
    "df_data['bert_score']=p_list"
   ]
  },
  {
   "cell_type": "code",
   "execution_count": 104,
   "metadata": {},
   "outputs": [],
   "source": [
    "df_data['precision_pred_with_brevity_penalty']=[df_data['score_pred'].iloc[i]*min(1,(len(df_data['pred'].iloc[i])/len(df_data['source_sentence'].iloc[i]))) for i in range(len(df_data))]"
   ]
  },
  {
   "cell_type": "code",
   "execution_count": null,
   "metadata": {},
   "outputs": [],
   "source": [
    "# edit path accordingly\n",
    "path_to_save_dataset=\"factuality_of_text_simplification\\models\\T5\\evaluation\\BART\\Enc_dec_bart_model_bert_score.csv\"\n",
    "df_data_consistent.to_csv(path_to_save_dataset,index=False)"
   ]
  },
  {
   "cell_type": "code",
   "execution_count": null,
   "metadata": {},
   "outputs": [],
   "source": []
  }
 ],
 "metadata": {
  "kernelspec": {
   "display_name": "factual_env",
   "language": "python",
   "name": "factual_env"
  },
  "language_info": {
   "codemirror_mode": {
    "name": "ipython",
    "version": 3
   },
   "file_extension": ".py",
   "mimetype": "text/x-python",
   "name": "python",
   "nbconvert_exporter": "python",
   "pygments_lexer": "ipython3",
   "version": "3.8.3"
  }
 },
 "nbformat": 4,
 "nbformat_minor": 4
}
