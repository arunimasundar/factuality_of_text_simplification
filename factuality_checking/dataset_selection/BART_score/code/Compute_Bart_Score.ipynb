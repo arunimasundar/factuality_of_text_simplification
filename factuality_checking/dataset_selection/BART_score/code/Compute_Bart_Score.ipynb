{
 "cells": [
  {
   "cell_type": "code",
   "execution_count": 1,
   "id": "f78ff756",
   "metadata": {},
   "outputs": [],
   "source": [
    "from bart_score import BARTScorer\n",
    "import pandas as pd"
   ]
  },
  {
   "cell_type": "code",
   "execution_count": 43,
   "id": "b7e1dd15",
   "metadata": {},
   "outputs": [],
   "source": [
    "bart_scorer = BARTScorer(device='cpu', checkpoint='facebook/bart-large-cnn')"
   ]
  },
  {
   "cell_type": "code",
   "execution_count": 3,
   "id": "b3951ffb",
   "metadata": {},
   "outputs": [],
   "source": [
    "#edit path accordingly\n",
    "data_path = \"factuality_checking/training_dataset_20k.csv\""
   ]
  },
  {
   "cell_type": "code",
   "execution_count": 4,
   "id": "1d23f0ec",
   "metadata": {},
   "outputs": [],
   "source": [
    "dataset = pd.read_csv(data_path)"
   ]
  },
  {
   "cell_type": "code",
   "execution_count": 5,
   "id": "02762780",
   "metadata": {},
   "outputs": [
    {
     "data": {
      "text/html": [
       "<div>\n",
       "<style scoped>\n",
       "    .dataframe tbody tr th:only-of-type {\n",
       "        vertical-align: middle;\n",
       "    }\n",
       "\n",
       "    .dataframe tbody tr th {\n",
       "        vertical-align: top;\n",
       "    }\n",
       "\n",
       "    .dataframe thead th {\n",
       "        text-align: right;\n",
       "    }\n",
       "</style>\n",
       "<table border=\"1\" class=\"dataframe\">\n",
       "  <thead>\n",
       "    <tr style=\"text-align: right;\">\n",
       "      <th></th>\n",
       "      <th>source_sentence</th>\n",
       "      <th>simplified_sentence</th>\n",
       "      <th>sentence_id</th>\n",
       "    </tr>\n",
       "  </thead>\n",
       "  <tbody>\n",
       "    <tr>\n",
       "      <th>0</th>\n",
       "      <td>Dole was the capital until the region was conq...</td>\n",
       "      <td>It was created from part of the former provinc...</td>\n",
       "      <td>0</td>\n",
       "    </tr>\n",
       "    <tr>\n",
       "      <th>1</th>\n",
       "      <td>The elk , or wapiti -LRB- Cervus canadensis -R...</td>\n",
       "      <td>The Wapiti or Elk -LRB- Cervus canadensis -RRB...</td>\n",
       "      <td>1</td>\n",
       "    </tr>\n",
       "    <tr>\n",
       "      <th>2</th>\n",
       "      <td>When the city grew further , a bigger market p...</td>\n",
       "      <td>As the city grew larger , a bigger market plac...</td>\n",
       "      <td>2</td>\n",
       "    </tr>\n",
       "    <tr>\n",
       "      <th>3</th>\n",
       "      <td>These submarines often have a system which can...</td>\n",
       "      <td>These submarines often have a system which can...</td>\n",
       "      <td>3</td>\n",
       "    </tr>\n",
       "    <tr>\n",
       "      <th>4</th>\n",
       "      <td>Unlike the branle , in which sideways motion w...</td>\n",
       "      <td>To dance a gavotte the dancers must cross thei...</td>\n",
       "      <td>4</td>\n",
       "    </tr>\n",
       "    <tr>\n",
       "      <th>...</th>\n",
       "      <td>...</td>\n",
       "      <td>...</td>\n",
       "      <td>...</td>\n",
       "    </tr>\n",
       "    <tr>\n",
       "      <th>19995</th>\n",
       "      <td>Killin -LRB- Cill Fhinn ` the White -LRB- or F...</td>\n",
       "      <td>Killin -LRB- Cill Fhinn ` the White -LRB- or F...</td>\n",
       "      <td>19995</td>\n",
       "    </tr>\n",
       "    <tr>\n",
       "      <th>19996</th>\n",
       "      <td>Early life Murray was born on born 26 April 18...</td>\n",
       "      <td>Early Life Murray was born on born 26 April 18...</td>\n",
       "      <td>19996</td>\n",
       "    </tr>\n",
       "    <tr>\n",
       "      <th>19997</th>\n",
       "      <td>Green Cove Springs is the county seat of Gover...</td>\n",
       "      <td>Green Cove Springs is a city of Florida in the...</td>\n",
       "      <td>19997</td>\n",
       "    </tr>\n",
       "    <tr>\n",
       "      <th>19998</th>\n",
       "      <td>Like Parmigiano Reggiano , Grana Padano is a s...</td>\n",
       "      <td>Like Parmigiano Reggiano , Grana Padano is a s...</td>\n",
       "      <td>19998</td>\n",
       "    </tr>\n",
       "    <tr>\n",
       "      <th>19999</th>\n",
       "      <td>In 1905 , Jones married Bernice Sheffield , wh...</td>\n",
       "      <td>In 1905 , Jones married Bernice Sheffield , wh...</td>\n",
       "      <td>19999</td>\n",
       "    </tr>\n",
       "  </tbody>\n",
       "</table>\n",
       "<p>20000 rows × 3 columns</p>\n",
       "</div>"
      ],
      "text/plain": [
       "                                         source_sentence  \\\n",
       "0      Dole was the capital until the region was conq...   \n",
       "1      The elk , or wapiti -LRB- Cervus canadensis -R...   \n",
       "2      When the city grew further , a bigger market p...   \n",
       "3      These submarines often have a system which can...   \n",
       "4      Unlike the branle , in which sideways motion w...   \n",
       "...                                                  ...   \n",
       "19995  Killin -LRB- Cill Fhinn ` the White -LRB- or F...   \n",
       "19996  Early life Murray was born on born 26 April 18...   \n",
       "19997  Green Cove Springs is the county seat of Gover...   \n",
       "19998  Like Parmigiano Reggiano , Grana Padano is a s...   \n",
       "19999  In 1905 , Jones married Bernice Sheffield , wh...   \n",
       "\n",
       "                                     simplified_sentence  sentence_id  \n",
       "0      It was created from part of the former provinc...            0  \n",
       "1      The Wapiti or Elk -LRB- Cervus canadensis -RRB...            1  \n",
       "2      As the city grew larger , a bigger market plac...            2  \n",
       "3      These submarines often have a system which can...            3  \n",
       "4      To dance a gavotte the dancers must cross thei...            4  \n",
       "...                                                  ...          ...  \n",
       "19995  Killin -LRB- Cill Fhinn ` the White -LRB- or F...        19995  \n",
       "19996  Early Life Murray was born on born 26 April 18...        19996  \n",
       "19997  Green Cove Springs is a city of Florida in the...        19997  \n",
       "19998  Like Parmigiano Reggiano , Grana Padano is a s...        19998  \n",
       "19999  In 1905 , Jones married Bernice Sheffield , wh...        19999  \n",
       "\n",
       "[20000 rows x 3 columns]"
      ]
     },
     "execution_count": 5,
     "metadata": {},
     "output_type": "execute_result"
    }
   ],
   "source": [
    "dataset"
   ]
  },
  {
   "cell_type": "code",
   "execution_count": 209,
   "id": "86a74883",
   "metadata": {},
   "outputs": [],
   "source": [
    "bart_score = bart_scorer.score(list(dataset['source_sentence']), list(dataset['simplified_sentence']), batch_size=16)"
   ]
  },
  {
   "cell_type": "code",
   "execution_count": 210,
   "id": "ae8a00ce",
   "metadata": {},
   "outputs": [],
   "source": [
    "dataset['bart_score'] = bart_score"
   ]
  },
  {
   "cell_type": "code",
   "execution_count": 7,
   "id": "4b51b8b4",
   "metadata": {},
   "outputs": [],
   "source": [
    "dataset = dataset.sort_values(by=['bart_score'], ascending = False)"
   ]
  },
  {
   "cell_type": "code",
   "execution_count": 8,
   "id": "5535e6d6",
   "metadata": {},
   "outputs": [],
   "source": [
    "dataset = dataset[:15000]"
   ]
  },
  {
   "cell_type": "code",
   "execution_count": 9,
   "id": "546de479",
   "metadata": {},
   "outputs": [],
   "source": [
    "#path_to_save_dataset=\"factuality_checking/dataset_selection/BERT_score/output_files/bart_dataset_top_15k.csv\"\n",
    "dataset.to_csv(path_to_save_dataset)"
   ]
  }
 ],
 "metadata": {
  "kernelspec": {
   "display_name": "factual_consistency",
   "language": "python",
   "name": "factual_consistency"
  },
  "language_info": {
   "codemirror_mode": {
    "name": "ipython",
    "version": 3
   },
   "file_extension": ".py",
   "mimetype": "text/x-python",
   "name": "python",
   "nbconvert_exporter": "python",
   "pygments_lexer": "ipython3",
   "version": "3.10.11"
  }
 },
 "nbformat": 4,
 "nbformat_minor": 5
}
